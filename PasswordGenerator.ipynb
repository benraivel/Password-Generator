{
 "cells": [
  {
   "cell_type": "code",
   "execution_count": 2,
   "metadata": {},
   "outputs": [],
   "source": [
    "from GeneratePassword import gen_pswd "
   ]
  },
  {
   "cell_type": "code",
   "execution_count": 3,
   "metadata": {},
   "outputs": [
    {
     "name": "stdout",
     "output_type": "stream",
     "text": [
      "leLbGet1RwZyVSOnHQK4\n",
      "dByKZ3KWC75IrqSBKycz\n",
      "0mrrtEXu1Lj6vvDLKRnS\n",
      "i3YQV9ePJrKzIM79p6BT\n",
      "STIfNl2VHQ7Ur8LzRJ4k\n",
      "y5wuNUKDjXfFnqLwdW0L\n",
      "axZ8oGSV0ebQ4rclkIZ1\n",
      "mdx4TCKZYzBukj5VVvmM\n",
      "xkeifhkiSuBcnxloNye6\n",
      "2n3dozkdpKfQSwQIS32O\n"
     ]
    }
   ],
   "source": [
    "for _ in range(10):\n",
    "    print(gen_pswd(20, special_char=False)) # 164 bits of entropy w/ length=25"
   ]
  }
 ],
 "metadata": {
  "kernelspec": {
   "display_name": "Python 3.10.6 64-bit",
   "language": "python",
   "name": "python3"
  },
  "language_info": {
   "codemirror_mode": {
    "name": "ipython",
    "version": 3
   },
   "file_extension": ".py",
   "mimetype": "text/x-python",
   "name": "python",
   "nbconvert_exporter": "python",
   "pygments_lexer": "ipython3",
   "version": "3.10.7"
  },
  "orig_nbformat": 4,
  "vscode": {
   "interpreter": {
    "hash": "e7370f93d1d0cde622a1f8e1c04877d8463912d04d973331ad4851f04de6915a"
   }
  }
 },
 "nbformat": 4,
 "nbformat_minor": 2
}
